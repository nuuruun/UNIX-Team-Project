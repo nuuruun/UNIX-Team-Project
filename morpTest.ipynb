{
 "cells": [
  {
   "cell_type": "code",
   "execution_count": 37,
   "metadata": {},
   "outputs": [
    {
     "name": "stdout",
     "output_type": "stream",
     "text": [
      "[responseCode] 200\n",
      "[responBody]\n",
      "{\"result\":0,\"return_object\":{\"doc_id\":\"\",\"DCT\":\"\",\"category\":\"\",\"category_weight\":0.0,\"title\":{\"text\":\"\",\"NE\":\"\"},\"metaInfo\":{},\"paragraphInfo\":[],\"sentence\":[{\"id\":0.0,\"reserve_str\":\"\",\"text\":\"철수는 배를 좋아한다.\",\"morp\":[{\"id\":0.0,\"lemma\":\"철수\",\"type\":\"NNP\",\"position\":0.0,\"weight\":0.0731069},{\"id\":1.0,\"lemma\":\"는\",\"type\":\"JX\",\"position\":6.0,\"weight\":0.0786685},{\"id\":2.0,\"lemma\":\"배\",\"type\":\"NNG\",\"position\":10.0,\"weight\":0.0840431},{\"id\":3.0,\"lemma\":\"를\",\"type\":\"JKO\",\"position\":13.0,\"weight\":0.144654},{\"id\":4.0,\"lemma\":\"좋아하\",\"type\":\"VV\",\"position\":17.0,\"weight\":0.0800059},{\"id\":5.0,\"lemma\":\"ㄴ다\",\"type\":\"EF\",\"position\":23.0,\"weight\":0.102798},{\"id\":6.0,\"lemma\":\".\",\"type\":\"SF\",\"position\":29.0,\"weight\":1.0}],\"WSD\":[],\"word\":[{\"id\":0.0,\"text\":\"철수는\",\"type\":\"\",\"begin\":0.0,\"end\":1.0},{\"id\":1.0,\"text\":\"배를\",\"type\":\"\",\"begin\":2.0,\"end\":3.0},{\"id\":2.0,\"text\":\"좋아한다.\",\"type\":\"\",\"begin\":4.0,\"end\":6.0}],\"NE\":[],\"NE_Link\":[],\"dependency\":[],\"SRL\":[]}],\"entity\":[]}}\n"
     ]
    }
   ],
   "source": [
    "#-*- coding:utf-8 -*-\n",
    "import urllib3\n",
    "import json\n",
    "\n",
    "# 언어 분석 기술 URL(구어)\n",
    "openApiURL = \"http://aiopen.etri.re.kr:8000/WiseNLU_spoken\"\n",
    "# API 승인 키\n",
    "accessKey = \"9c87e9e7-8945-4456-8fcd-aac688a360b0\"\n",
    "# 분석 코드 (형태소 (morp), 개채명 인식(ner))\n",
    "analysisCode = \"morp\"\n",
    "\n",
    "# 분석할 구어 문장\n",
    "text = \"철수는 배를 좋아한다.\";\n",
    "\n",
    "# For request argument\n",
    "requestJson = {\n",
    "    \"access_key\": accessKey,\n",
    "    \"argument\": {\n",
    "        \"text\": text,\n",
    "        \"analysis_code\": analysisCode\n",
    "    }\n",
    "}\n",
    "\n",
    "# PoolManager().request() method for response data\n",
    "http = urllib3.PoolManager()\n",
    "response = http.request(\n",
    "    \"POST\",\n",
    "    openApiURL,\n",
    "    headers={\"Content-Type\": \"application/json; charset=UTF-8\"},\n",
    "    body=json.dumps(requestJson)\n",
    ")\n",
    "\n",
    "print(\"[responseCode] \" + str(response.status))\n",
    "print(\"[responBody]\")\n",
    "print(str(response.data,\"utf-8\"))"
   ]
  },
  {
   "cell_type": "code",
   "execution_count": 42,
   "metadata": {},
   "outputs": [
    {
     "ename": "AttributeError",
     "evalue": "'str' object has no attribute 'get'",
     "output_type": "error",
     "traceback": [
      "\u001b[1;31m---------------------------------------------------------------------------\u001b[0m",
      "\u001b[1;31mAttributeError\u001b[0m                            Traceback (most recent call last)",
      "\u001b[1;32m<ipython-input-42-e4776bc8014b>\u001b[0m in \u001b[0;36m<module>\u001b[1;34m\u001b[0m\n\u001b[0;32m      3\u001b[0m \u001b[0mfinalObject\u001b[0m \u001b[1;33m=\u001b[0m \u001b[0mreturnObject\u001b[0m\u001b[1;33m[\u001b[0m\u001b[1;36m0\u001b[0m\u001b[1;33m]\u001b[0m\u001b[1;33m.\u001b[0m\u001b[0mget\u001b[0m\u001b[1;33m(\u001b[0m\u001b[1;34m\"morp\"\u001b[0m\u001b[1;33m)\u001b[0m\u001b[1;33m[\u001b[0m\u001b[1;36m0\u001b[0m\u001b[1;33m]\u001b[0m\u001b[1;33m\u001b[0m\u001b[1;33m\u001b[0m\u001b[0m\n\u001b[0;32m      4\u001b[0m \u001b[1;32mfor\u001b[0m \u001b[0mi\u001b[0m \u001b[1;32min\u001b[0m \u001b[0mfinalObject\u001b[0m\u001b[1;33m:\u001b[0m\u001b[1;33m\u001b[0m\u001b[1;33m\u001b[0m\u001b[0m\n\u001b[1;32m----> 5\u001b[1;33m     \u001b[0mprint\u001b[0m\u001b[1;33m(\u001b[0m\u001b[0mi\u001b[0m\u001b[1;33m.\u001b[0m\u001b[0mget\u001b[0m\u001b[1;33m(\u001b[0m\u001b[1;34m\"lemma\"\u001b[0m\u001b[1;33m)\u001b[0m\u001b[1;33m)\u001b[0m\u001b[1;33m\u001b[0m\u001b[1;33m\u001b[0m\u001b[0m\n\u001b[0m",
      "\u001b[1;31mAttributeError\u001b[0m: 'str' object has no attribute 'get'"
     ]
    }
   ],
   "source": [
    "jObject = json.loads(response.data)"
   ]
  },
  {
   "cell_type": "code",
   "execution_count": null,
   "metadata": {},
   "outputs": [],
   "source": []
  }
 ],
 "metadata": {
  "kernelspec": {
   "display_name": "pythonAPI",
   "language": "python",
   "name": "pythonapi"
  },
  "language_info": {
   "codemirror_mode": {
    "name": "ipython",
    "version": 3
   },
   "file_extension": ".py",
   "mimetype": "text/x-python",
   "name": "python",
   "nbconvert_exporter": "python",
   "pygments_lexer": "ipython3",
   "version": "3.8.5"
  }
 },
 "nbformat": 4,
 "nbformat_minor": 4
}
